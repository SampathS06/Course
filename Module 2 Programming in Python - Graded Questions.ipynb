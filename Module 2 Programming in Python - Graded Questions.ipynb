{
 "cells": [
  {
   "cell_type": "code",
   "execution_count": 19,
   "id": "89dfc3c7",
   "metadata": {},
   "outputs": [],
   "source": [
    "# MCQs\n",
    "\n",
    "import pandas as pd\n",
    "import numpy as np"
   ]
  },
  {
   "cell_type": "code",
   "execution_count": null,
   "id": "234584b8",
   "metadata": {},
   "outputs": [],
   "source": [
    "# Python Operators\n",
    "# What will the output be of ((500//7) % 5) ** 3?"
   ]
  },
  {
   "cell_type": "code",
   "execution_count": 4,
   "id": "666a5b39",
   "metadata": {},
   "outputs": [
    {
     "data": {
      "text/plain": [
       "1"
      ]
     },
     "execution_count": 4,
     "metadata": {},
     "output_type": "execute_result"
    }
   ],
   "source": [
    "# Answer\n",
    "((500//7) % 5) ** 3\n",
    "\n",
    "# Explanation\n",
    "\n",
    "# (500//7) means integer division. Hence, you will get 71.\n",
    "# 71 % 5 will return the remainder when 71 is divided by 5. Hence, you will get 1.\n",
    "# 1 ** 3 will return 1 raised to the third power. Hence, you will get 1."
   ]
  },
  {
   "cell_type": "code",
   "execution_count": 5,
   "id": "157aaa55",
   "metadata": {},
   "outputs": [],
   "source": [
    "# Indexing\n",
    "# How will you extract ‘love’ from the string S = “I love Python”? (More than one option may be correct.)."
   ]
  },
  {
   "cell_type": "code",
   "execution_count": 16,
   "id": "afc2f8e0",
   "metadata": {},
   "outputs": [
    {
     "data": {
      "text/plain": [
       "'love'"
      ]
     },
     "execution_count": 16,
     "metadata": {},
     "output_type": "execute_result"
    }
   ],
   "source": [
    "# Answer\n",
    "S = \"I love Python\"\n",
    "\n",
    "S[2:6]\n",
    "S[-11:-7]"
   ]
  },
  {
   "cell_type": "code",
   "execution_count": null,
   "id": "d72f8427",
   "metadata": {},
   "outputs": [],
   "source": [
    "# Operator Precedence\n",
    "# What will the output of 3 * 3 ** 3 be?"
   ]
  },
  {
   "cell_type": "code",
   "execution_count": 15,
   "id": "98e879ec",
   "metadata": {},
   "outputs": [
    {
     "data": {
      "text/plain": [
       "81"
      ]
     },
     "execution_count": 15,
     "metadata": {},
     "output_type": "execute_result"
    }
   ],
   "source": [
    "# Answer\n",
    "\n",
    "3 * 3 ** 3"
   ]
  },
  {
   "cell_type": "code",
   "execution_count": null,
   "id": "24bda1fc",
   "metadata": {},
   "outputs": [],
   "source": [
    "# Tuples\n",
    "# If you have a tuple T = (3, 5, 7, 11), what will the output of T.append(9) be?"
   ]
  },
  {
   "cell_type": "code",
   "execution_count": 21,
   "id": "f93bc18a",
   "metadata": {},
   "outputs": [],
   "source": [
    "T = (3, 5, 7, 11)"
   ]
  },
  {
   "cell_type": "code",
   "execution_count": 23,
   "id": "1a2c6b66",
   "metadata": {},
   "outputs": [
    {
     "ename": "AttributeError",
     "evalue": "'tuple' object has no attribute 'append'",
     "output_type": "error",
     "traceback": [
      "\u001b[1;31m---------------------------------------------------------------------------\u001b[0m",
      "\u001b[1;31mAttributeError\u001b[0m                            Traceback (most recent call last)",
      "\u001b[1;32m~\\AppData\\Local\\Temp/ipykernel_5492/1211762757.py\u001b[0m in \u001b[0;36m<module>\u001b[1;34m\u001b[0m\n\u001b[1;32m----> 1\u001b[1;33m \u001b[0mT\u001b[0m\u001b[1;33m.\u001b[0m\u001b[0mappend\u001b[0m\u001b[1;33m(\u001b[0m\u001b[1;36m9\u001b[0m\u001b[1;33m)\u001b[0m\u001b[1;33m\u001b[0m\u001b[1;33m\u001b[0m\u001b[0m\n\u001b[0m\u001b[0;32m      2\u001b[0m \u001b[1;33m\u001b[0m\u001b[0m\n\u001b[0;32m      3\u001b[0m \u001b[1;31m# Explanation\u001b[0m\u001b[1;33m\u001b[0m\u001b[1;33m\u001b[0m\u001b[0m\n\u001b[0;32m      4\u001b[0m \u001b[1;31m# Tuples are immutable, i.e. once a tuple is created, you cannot alter it.\u001b[0m\u001b[1;33m\u001b[0m\u001b[1;33m\u001b[0m\u001b[0m\n\u001b[0;32m      5\u001b[0m \u001b[1;31m# This is why if you attempt to append a value to the tuple in the question, Python will throw an error.\u001b[0m\u001b[1;33m\u001b[0m\u001b[1;33m\u001b[0m\u001b[0m\n",
      "\u001b[1;31mAttributeError\u001b[0m: 'tuple' object has no attribute 'append'"
     ]
    }
   ],
   "source": [
    "T.append(9)\n",
    "\n",
    "# Explanation\n",
    "# Tuples are immutable, i.e. once a tuple is created, you cannot alter it. \n",
    "# This is why if you attempt to append a value to the tuple in the question, Python will throw an error."
   ]
  },
  {
   "cell_type": "code",
   "execution_count": null,
   "id": "43ccd46e",
   "metadata": {},
   "outputs": [],
   "source": [
    "# 2-D List Indexing\n",
    "# What will the output of the following program be?\n",
    "# L1 = ['Vikas', 'Akshay', 'Sanskar', 'Mahima']\n",
    "# print(L1[1][-1])"
   ]
  },
  {
   "cell_type": "code",
   "execution_count": 25,
   "id": "ec11f991",
   "metadata": {},
   "outputs": [
    {
     "name": "stdout",
     "output_type": "stream",
     "text": [
      "y\n"
     ]
    }
   ],
   "source": [
    "# Answer\n",
    "L1 = ['Vikas', 'Akshay', 'Sanskar', 'Mahima']\n",
    "print(L1[1][-1])"
   ]
  },
  {
   "cell_type": "code",
   "execution_count": null,
   "id": "a8206906",
   "metadata": {},
   "outputs": [],
   "source": [
    "# Appending to a List\n",
    "# What will the output of the following code be?"
   ]
  },
  {
   "cell_type": "code",
   "execution_count": 26,
   "id": "a0432931",
   "metadata": {},
   "outputs": [
    {
     "name": "stdout",
     "output_type": "stream",
     "text": [
      "6\n"
     ]
    }
   ],
   "source": [
    "l = [32, 34, 12, 27, 33]\n",
    "l.append([14, 19])\n",
    "print(len(l))"
   ]
  },
  {
   "cell_type": "code",
   "execution_count": null,
   "id": "b2b3ef68",
   "metadata": {},
   "outputs": [],
   "source": [
    "# Sets\n",
    "# Which of the following statements is incorrect regarding sets in Python?"
   ]
  },
  {
   "cell_type": "code",
   "execution_count": null,
   "id": "77e2c66c",
   "metadata": {},
   "outputs": [],
   "source": [
    "# Answer\n",
    "# Sets are immutable\n",
    "# Correct. Sets are mutable by nature, i.e. their contents can be altered."
   ]
  }
 ],
 "metadata": {
  "kernelspec": {
   "display_name": "Python 3 (ipykernel)",
   "language": "python",
   "name": "python3"
  },
  "language_info": {
   "codemirror_mode": {
    "name": "ipython",
    "version": 3
   },
   "file_extension": ".py",
   "mimetype": "text/x-python",
   "name": "python",
   "nbconvert_exporter": "python",
   "pygments_lexer": "ipython3",
   "version": "3.9.7"
  }
 },
 "nbformat": 4,
 "nbformat_minor": 5
}

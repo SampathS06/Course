{
 "cells": [
  {
   "cell_type": "code",
   "execution_count": 15,
   "id": "3adb4095",
   "metadata": {},
   "outputs": [],
   "source": [
    "import numpy as np\n",
    "import pandas as pd"
   ]
  },
  {
   "cell_type": "code",
   "execution_count": null,
   "id": "cfc77139",
   "metadata": {},
   "outputs": [],
   "source": [
    "# Creating an Array\n",
    "# Select the correct option to create a 1-d array using the following elements (1.0, 2, 3.5, 0.2, True). \n",
    "# (Note that ‘True’ must be provided as a Boolean value, not as a string.)"
   ]
  },
  {
   "cell_type": "code",
   "execution_count": 16,
   "id": "a3ee65d8",
   "metadata": {},
   "outputs": [
    {
     "data": {
      "text/plain": [
       "(1.0, 2, 3.5, 0.2, True)"
      ]
     },
     "execution_count": 16,
     "metadata": {},
     "output_type": "execute_result"
    }
   ],
   "source": [
    " (1.0, 2, 3.5, 0.2, True)"
   ]
  },
  {
   "cell_type": "code",
   "execution_count": 24,
   "id": "048a8a78",
   "metadata": {},
   "outputs": [
    {
     "data": {
      "text/plain": [
       "array([1. , 2. , 3.5, 0.2, 1. ])"
      ]
     },
     "execution_count": 24,
     "metadata": {},
     "output_type": "execute_result"
    }
   ],
   "source": [
    "# Answer\n",
    "np.array( [1.0, 2, 3.5, 0.2, True] )"
   ]
  },
  {
   "cell_type": "code",
   "execution_count": null,
   "id": "82c8f72b",
   "metadata": {},
   "outputs": [],
   "source": [
    "# NumPy Array\n",
    "# What is the default data type of each element in the array created in the previous question?"
   ]
  },
  {
   "cell_type": "code",
   "execution_count": null,
   "id": "2abcca80",
   "metadata": {},
   "outputs": [],
   "source": [
    "# float\n",
    "# Float can accommodate the integer values; hence, all the values are converted to float. \n",
    "# Check the output in Jupyter notebook to confirm."
   ]
  },
  {
   "cell_type": "code",
   "execution_count": 31,
   "id": "9b026684",
   "metadata": {},
   "outputs": [],
   "source": [
    "# Creating an array\n",
    "# Is it possible to create an array from a tuple?"
   ]
  },
  {
   "cell_type": "code",
   "execution_count": 33,
   "id": "5d4d9c2e",
   "metadata": {},
   "outputs": [],
   "source": [
    "# Answer\n",
    "# Yes"
   ]
  },
  {
   "cell_type": "code",
   "execution_count": 34,
   "id": "1cf13065",
   "metadata": {},
   "outputs": [],
   "source": [
    "# Indexing Array\n",
    "# Given an array:\n",
    "array_1 = [1,2,3,5,4,6,7,8,5,3,2]"
   ]
  },
  {
   "cell_type": "code",
   "execution_count": 35,
   "id": "f618bacb",
   "metadata": {},
   "outputs": [
    {
     "name": "stdout",
     "output_type": "stream",
     "text": [
      "[1, 2, 3]\n"
     ]
    }
   ],
   "source": [
    "# What will be the output of the code provided below?\n",
    "\n",
    "print(array_1[:3])"
   ]
  },
  {
   "cell_type": "code",
   "execution_count": 36,
   "id": "8da5ba63",
   "metadata": {},
   "outputs": [],
   "source": [
    "# Indexing Array\n",
    "# Given an array:\n",
    "\n",
    "array_1 = [1,2,3,5,4,6,7,8,5,3,2]"
   ]
  },
  {
   "cell_type": "code",
   "execution_count": 37,
   "id": "03fb70d9",
   "metadata": {},
   "outputs": [
    {
     "name": "stdout",
     "output_type": "stream",
     "text": [
      "[3, 5, 4, 6, 7, 8]\n"
     ]
    }
   ],
   "source": [
    "#What will be the output of the code provided below?\n",
    "\n",
    "print(array_1[2:-3])"
   ]
  },
  {
   "cell_type": "code",
   "execution_count": 38,
   "id": "8fdcb8aa",
   "metadata": {},
   "outputs": [],
   "source": [
    "# Indexing Array\n",
    "# Given an array:\n",
    "\n",
    "array_1 = [1,2,3,5,4,6,7,8,5,3,2]"
   ]
  },
  {
   "cell_type": "code",
   "execution_count": 39,
   "id": "5337ece1",
   "metadata": {},
   "outputs": [
    {
     "name": "stdout",
     "output_type": "stream",
     "text": [
      "[2, 5, 7, 4, 3, 1]\n"
     ]
    }
   ],
   "source": [
    "# What will be the output of the code provided below?\n",
    "# (Hint: The syntax is [starting value : end value : step value])\n",
    "print(array_1[ : : -2])"
   ]
  },
  {
   "cell_type": "code",
   "execution_count": 40,
   "id": "330a2a6b",
   "metadata": {},
   "outputs": [],
   "source": [
    "# Indexing Array\n",
    "# How would you extract all the elements with an odd index in a given array?\n",
    "# (Hint: Odd index refers to the position of the element, not the actual value)"
   ]
  },
  {
   "cell_type": "code",
   "execution_count": 42,
   "id": "2adb6dce",
   "metadata": {},
   "outputs": [],
   "source": [
    "# Answer\n",
    "# array[1: : 2]"
   ]
  },
  {
   "cell_type": "code",
   "execution_count": null,
   "id": "ee416e9e",
   "metadata": {},
   "outputs": [],
   "source": []
  }
 ],
 "metadata": {
  "kernelspec": {
   "display_name": "Python 3 (ipykernel)",
   "language": "python",
   "name": "python3"
  },
  "language_info": {
   "codemirror_mode": {
    "name": "ipython",
    "version": 3
   },
   "file_extension": ".py",
   "mimetype": "text/x-python",
   "name": "python",
   "nbconvert_exporter": "python",
   "pygments_lexer": "ipython3",
   "version": "3.9.7"
  }
 },
 "nbformat": 4,
 "nbformat_minor": 5
}
